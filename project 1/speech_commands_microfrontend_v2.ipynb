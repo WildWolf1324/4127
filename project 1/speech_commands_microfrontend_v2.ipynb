{
 "cells": [
  {
   "cell_type": "markdown",
   "id": "adolescent-davis",
   "metadata": {},
   "source": [
    "## Basic Steps\n",
    "\n",
    "1. Run a baseline training script to build a speech commands model.\n",
    "2. Add in your custom word to the training and test/validation sets.\n",
    "   - Modify labels, shape of your output tensor in the model.\n",
    "   - Make sure that feature extractor for the model aligns with the feature extractor \n",
    "     used in the arduino code.\n",
    "3. Re-train model. => TF Model using floating-point numbers, that recognizes Google word and custom word.\n",
    "4. Quantize the model and convert to TFlite. => keyword_model.tflite file\n",
    "5. Convert tflite to .c file, using xxd => model_data.cc\n",
    "6. Replace contents of existing micro_features_model.cpp with output of xxd.\n",
    "\n",
    "All of the above steps are done in this notebook for the commands 'left', 'right'.\n",
    "\n",
    "7. In micro_speech.ino, modify micro_op_resolver (around line 80) to add any necessary operations (DIFF_FROM_LECTURE)\n",
    "8. In micro_features_model_settings.h, modify kSilenceIndex and kUnknownIndex, depending on \n",
    "where you have them in commands.  \n",
    "  - Commands = ['left', 'right', '_silence', '_unknown'] => kSilenceIndex=2, kUnknownIndex=3\n",
    "9. In micro_features_model_settings.cpp, modify kCategoryLabels to correspond to commands in this script.\n",
    "10. In micro_features_micro_model_settings.h, set kFeatureSliceDurationMs, kFeatureSliceStrideMs to match what is passed to microfrontend as window_size, window_step, respectively.\n",
    "11. Rebuild Arduino program, run it, recognize the two target words.\n",
    "12. Experiment with model architecture, training parameters/methods, augmentation, more data-gathering, etc.\n",
    "\n",
    "*Note*:  As of 5/3/21, this model uses 22% of flash and 49.5% of RAM, so there is substantial space to improve the model, but the latency is about 208ms, which is probably too slow."
   ]
  },
  {
   "cell_type": "code",
   "execution_count": 34,
   "id": "98547b33-e0cf-4753-9bdb-3acf0d788ea4",
   "metadata": {},
   "outputs": [
    {
     "name": "stdout",
     "output_type": "stream",
     "text": [
      "1 Physical GPUs, 1 Logical GPUs\n"
     ]
    }
   ],
   "source": [
    "import tensorflow as tf\n",
    "gpus = tf.config.list_physical_devices('GPU')\n",
    "if gpus:\n",
    "  # Restrict TensorFlow to only allocate 1GB of memory on the first GPU\n",
    "  try:\n",
    "    tf.config.set_logical_device_configuration(\n",
    "        gpus[0],\n",
    "        [tf.config.LogicalDeviceConfiguration(memory_limit=8192)])\n",
    "    logical_gpus = tf.config.list_logical_devices('GPU')\n",
    "    print(len(gpus), \"Physical GPUs,\", len(logical_gpus), \"Logical GPUs\")\n",
    "  except RuntimeError as e:\n",
    "    # Virtual devices must be set before GPUs have been initialized\n",
    "    print(e)"
   ]
  },
  {
   "cell_type": "code",
   "execution_count": 35,
   "id": "undefined-familiar",
   "metadata": {},
   "outputs": [
    {
     "name": "stdout",
     "output_type": "stream",
     "text": [
      "2.8.0\n"
     ]
    }
   ],
   "source": [
    "# TensorFlow and tf.keras\n",
    "import tensorflow as tf\n",
    "from tensorflow.keras import Input, layers\n",
    "from tensorflow.keras import models\n",
    "from tensorflow.keras.layers.experimental import preprocessing\n",
    "from tensorflow.lite.experimental.microfrontend.python.ops import audio_microfrontend_op as frontend_op\n",
    "print(tf.__version__)\n",
    "\n",
    "# Helper libraries\n",
    "import numpy as np\n",
    "import matplotlib.pyplot as plt\n",
    "import seaborn as sns\n",
    "import posixpath\n",
    "import os\n",
    "\n",
    "from tqdm.notebook import tqdm\n",
    "# from tqdm import tqdm # replace with this if moving out of notebook\n",
    "\n",
    "import os\n",
    "import pathlib\n",
    "\n",
    "\n",
    "from datetime import datetime as dt\n",
    "\n",
    "from IPython import display"
   ]
  },
  {
   "cell_type": "code",
   "execution_count": 36,
   "id": "bearing-lobby",
   "metadata": {},
   "outputs": [],
   "source": [
    "# Set seed for experiment reproducibility\n",
    "seed = 42\n",
    "tf.random.set_seed(seed)\n",
    "np.random.seed(seed)"
   ]
  },
  {
   "cell_type": "code",
   "execution_count": 37,
   "id": "incredible-numbers",
   "metadata": {},
   "outputs": [],
   "source": [
    "i16min = -2**15\n",
    "i16max = 2**15-1\n",
    "fsamp = 16000\n",
    "wave_length_ms = 1000\n",
    "wave_length_samps = int(wave_length_ms*fsamp/1000)\n",
    "window_size_ms=60\n",
    "window_step_ms=40\n",
    "num_filters = 32\n",
    "use_microfrontend = True\n",
    "# dataset = 'mini-speech'\n",
    "# dataset = 'full-speech-ds' # use the full speech commands as a pre-built TF dataset \n",
    "dataset = 'full-speech-files' # use the full speech commands stored as files \n",
    "\n",
    "silence_str = \"_silence\"  \n",
    "unknown_str = \"_unknown\"\n",
    "EPOCHS = 25"
   ]
  },
  {
   "cell_type": "markdown",
   "id": "outstanding-movement",
   "metadata": {},
   "source": [
    "Apply the frontend to an example signal."
   ]
  },
  {
   "cell_type": "code",
   "execution_count": 38,
   "id": "rising-oracle",
   "metadata": {},
   "outputs": [],
   "source": [
    "commands = ['sheila', 'apricot']\n",
    "acommands = ['backward', 'bed', 'bird', 'cat', 'dog', 'down', 'eight', 'five', 'follow', 'forward', 'four', 'go',\n",
    "             'happy', 'house', 'learn', 'left', 'marvin', 'nine', 'no', 'off', 'on', 'one', 'right', 'seven',\n",
    "             'sheila', 'six', 'stop', 'three', 'tree', 'two', 'up', 'visual', 'wow', 'yes', 'zero','apricot']\n",
    "if dataset == 'mini-speech':\n",
    "  data_dir = pathlib.Path(os.path.join(os.getenv(\"HOME\"), 'data/mini_speech_commands'))\n",
    "  if not data_dir.exists():\n",
    "    tf.keras.utils.get_file('mini_speech_commands.zip',\n",
    "          origin=\"http://storage.googleapis.com/download.tensorflow.org/data/mini_speech_commands.zip\",\n",
    "          extract=True, cache_dir='.', cache_subdir='data')\n",
    "  # commands = np.array(tf.io.gfile.listdir(str(data_dir))) # if you want to use all the command words\n",
    "  # commands = commands[commands != 'README.md']\n",
    "elif dataset == 'full-speech-files':\n",
    "  #data_dir = '/Users/kemp/Downloads/speech_dataset'\n",
    "  data_dir = pathlib.Path(os.path.join('/Users/kemp', 'Downloads/speech_data'))\n",
    "\n",
    "elif dataset == 'full-speech-ds':\n",
    "    raise RuntimeError(\"full-speech-ds is not really supported yet\")"
   ]
  },
  {
   "cell_type": "code",
   "execution_count": 39,
   "id": "2e571f98-2d10-4809-ae2e-abd8d202181a",
   "metadata": {},
   "outputs": [
    {
     "data": {
      "text/plain": [
       "WindowsPath('/Users/kemp/Downloads/speech_data')"
      ]
     },
     "execution_count": 39,
     "metadata": {},
     "output_type": "execute_result"
    }
   ],
   "source": [
    "data_dir"
   ]
  },
  {
   "cell_type": "code",
   "execution_count": 40,
   "id": "precious-graph",
   "metadata": {},
   "outputs": [
    {
     "name": "stdout",
     "output_type": "stream",
     "text": [
      "label_list: ['_silence', '_unknown', 'sheila', 'apricot']\n"
     ]
    }
   ],
   "source": [
    "label_list = commands.copy()\n",
    "label_list.insert(0, silence_str)\n",
    "label_list.insert(1, unknown_str)\n",
    "print('label_list:', label_list)"
   ]
  },
  {
   "cell_type": "code",
   "execution_count": 41,
   "id": "e08637a7-35d4-493c-b3c9-31ea358de82d",
   "metadata": {},
   "outputs": [
    {
     "name": "stderr",
     "output_type": "stream",
     "text": [
      "'ls' is not recognized as an internal or external command,\n",
      "operable program or batch file.\n"
     ]
    }
   ],
   "source": [
    "!ls $data_dir/"
   ]
  },
  {
   "cell_type": "code",
   "execution_count": 42,
   "id": "surprising-adjustment",
   "metadata": {
    "scrolled": true
   },
   "outputs": [
    {
     "name": "stdout",
     "output_type": "stream",
     "text": [
      "Number of total examples: 105964\n",
      "Example file tensor: tf.Tensor(b'\\\\Users\\\\kemp\\\\Downloads\\\\speech_data\\\\off\\\\61abbf52_nohash_2.wav', shape=(), dtype=string)\n"
     ]
    }
   ],
   "source": [
    "if dataset == 'mini-speech' or dataset == 'full-speech-files':\n",
    "    filenames = tf.io.gfile.glob(os.path.join(str(data_dir), '*', '*.wav')) \n",
    "    # with the next commented-out line, you can choose only files for words in label_list\n",
    "    # filenames = tf.concat([tf.io.gfile.glob(str(data_dir) + '/' + cmd + '/*') for cmd in label_list], 0)\n",
    "    filenames = tf.random.shuffle(filenames)\n",
    "    num_samples = len(filenames)\n",
    "    print('Number of total examples:', num_samples)\n",
    "    # print('Number of examples per label:',\n",
    "    #       len(tf.io.gfile.listdir(str(data_dir/commands[0]))))\n",
    "    print('Example file tensor:', filenames[0])"
   ]
  },
  {
   "cell_type": "code",
   "execution_count": 43,
   "id": "ranging-version",
   "metadata": {},
   "outputs": [
    {
     "data": {
      "text/plain": [
       "<tf.Tensor: shape=(105964,), dtype=string, numpy=\n",
       "array([b'\\\\Users\\\\kemp\\\\Downloads\\\\speech_data\\\\off\\\\61abbf52_nohash_2.wav',\n",
       "       b'\\\\Users\\\\kemp\\\\Downloads\\\\speech_data\\\\happy\\\\1e31353f_nohash_0.wav',\n",
       "       b'\\\\Users\\\\kemp\\\\Downloads\\\\speech_data\\\\follow\\\\24a3e589_nohash_2.wav',\n",
       "       ...,\n",
       "       b'\\\\Users\\\\kemp\\\\Downloads\\\\speech_data\\\\learn\\\\eeaf97c3_nohash_2.wav',\n",
       "       b'\\\\Users\\\\kemp\\\\Downloads\\\\speech_data\\\\dog\\\\ca4912b6_nohash_0.wav',\n",
       "       b'\\\\Users\\\\kemp\\\\Downloads\\\\speech_data\\\\nine\\\\0b7ee1a0_nohash_4.wav'],\n",
       "      dtype=object)>"
      ]
     },
     "execution_count": 43,
     "metadata": {},
     "output_type": "execute_result"
    }
   ],
   "source": [
    "filenames\n",
    "# tf.strings.split(filenames[0], os.path.sep)[-2].numpy().decode('utf8')"
   ]
  },
  {
   "cell_type": "code",
   "execution_count": 44,
   "id": "assured-capture",
   "metadata": {},
   "outputs": [
    {
     "name": "stdout",
     "output_type": "stream",
     "text": [
      "\\Users\\kemp\\Downloads\\speech_data\\off\\61abbf52_nohash_2.wav\n",
      "\\Users\\kemp\\Downloads\\speech_data\\happy\\1e31353f_nohash_0.wav\n",
      "\\Users\\kemp\\Downloads\\speech_data\\follow\\24a3e589_nohash_2.wav\n",
      "\\Users\\kemp\\Downloads\\speech_data\\two\\a40c62f1_nohash_0.wav\n",
      "\\Users\\kemp\\Downloads\\speech_data\\off\\131e738d_nohash_4.wav\n",
      "\\Users\\kemp\\Downloads\\speech_data\\one\\d84829e0_nohash_0.wav\n",
      "\\Users\\kemp\\Downloads\\speech_data\\wow\\ed0965eb_nohash_0.wav\n",
      "\\Users\\kemp\\Downloads\\speech_data\\eight\\01bcfc0c_nohash_1.wav\n",
      "\\Users\\kemp\\Downloads\\speech_data\\visual\\195c120a_nohash_4.wav\n",
      "\\Users\\kemp\\Downloads\\speech_data\\bird\\2e7fac30_nohash_0.wav\n"
     ]
    }
   ],
   "source": [
    "# Not really necessary, but just look at a few of the files to make sure that \n",
    "# they're the correct files, shuffled, etc.\n",
    "for i in range(10):\n",
    "    print(filenames[i].numpy().decode('utf8'))"
   ]
  },
  {
   "cell_type": "code",
   "execution_count": 45,
   "id": "printable-nevada",
   "metadata": {},
   "outputs": [
    {
     "name": "stdout",
     "output_type": "stream",
     "text": [
      "full-speech-files is in progress.  Good luck!\n",
      "Training set size 84957\n",
      "Validation set size 9992\n",
      "Test set size 11018\n"
     ]
    }
   ],
   "source": [
    "if dataset == 'mini-speech':\n",
    "  print('Using mini-speech')\n",
    "  num_train_files = int(0.8*num_samples) \n",
    "  num_val_files = int(0.1*num_samples) \n",
    "  num_test_files = num_samples - num_train_files - num_val_files\n",
    "  train_files = filenames[:num_train_files]\n",
    "  val_files = filenames[num_train_files: num_train_files + num_val_files]\n",
    "  test_files = filenames[-num_test_files:]\n",
    "elif dataset == 'full-speech-files':  \n",
    "  # the full speech-commands set lists which files are to be used\n",
    "  # as test and validation data; train with everything else\n",
    "  fname_val_files = os.path.join(data_dir, 'validation_list.txt')    \n",
    "  with open(fname_val_files) as fpi_val:\n",
    "    val_files = fpi_val.read().splitlines()\n",
    "    # validation_list.txt only lists partial paths\n",
    "    val_files = [os.path.join(data_dir, fn) for fn in val_files]\n",
    "    fname_test_files = os.path.join(data_dir, 'testing_list.txt')\n",
    "    val_files = [fn.replace('/', os.sep) for fn in val_files] ## ADD THIS LINE\n",
    "\n",
    "  with open(fname_test_files) as fpi_tst:\n",
    "    test_files = fpi_tst.read().splitlines()\n",
    "    # testing_list.txt only lists partial paths\n",
    "    test_files = [os.path.join(data_dir, fn).rstrip() for fn in test_files]\n",
    "    test_files = [fn.replace('/', os.sep) for fn in test_files] ## ADD THIS LINE\n",
    "\n",
    "  # convert the TF tensor filenames into an array of strings so we can use basic python constructs\n",
    "  train_files = [f.decode('utf8') for f in filenames.numpy()]\n",
    "  # don't train with the _background_noise_ files; exclude when directory name starts with '_'\n",
    "  train_files = [f for f in train_files if f.split(os.sep)[-2][0] != '_']\n",
    "  # validation and test files are listed explicitly in *_list.txt; train with everything else\n",
    "  train_files = list(set(train_files) - set(test_files) - set(val_files))\n",
    "  # now convert back into a TF tensor so we can use the tf.dataset pipeline\n",
    "  train_files = tf.constant(train_files)    \n",
    "  print(\"full-speech-files is in progress.  Good luck!\")\n",
    "elif dataset == 'full-speech-ds':  \n",
    "    print(\"Using full-speech-ds. This is in progress.  Good luck!\")\n",
    "else:\n",
    "  raise ValueError(\"dataset must be either full-speech-files, full-speech-ds or mini-speech\")\n",
    "print('Training set size', len(train_files))\n",
    "print('Validation set size', len(val_files))\n",
    "print('Test set size', len(test_files))"
   ]
  },
  {
   "cell_type": "code",
   "execution_count": 46,
   "id": "connected-polish",
   "metadata": {},
   "outputs": [],
   "source": [
    "def decode_audio(audio_binary):\n",
    "  audio, _ = tf.audio.decode_wav(audio_binary)\n",
    "  return tf.squeeze(audio, axis=-1)"
   ]
  },
  {
   "cell_type": "code",
   "execution_count": 47,
   "id": "third-leave",
   "metadata": {},
   "outputs": [],
   "source": [
    "# @tf.function\n",
    "def get_label(file_path):\n",
    "  parts = tf.strings.split(file_path, os.path.sep)\n",
    "  in_set = tf.reduce_any(parts[-2] == label_list)\n",
    "  label = tf.cond(in_set, lambda: parts[-2], lambda: tf.constant(unknown_str))\n",
    "  #print(f\"parts[-2] = {parts[-2]}, in_set = {in_set}, label = {label}\")\n",
    "  # Note: You'll use indexing here instead of tuple unpacking to enable this \n",
    "  # to work in a TensorFlow graph.\n",
    "  return  label # parts[-2]"
   ]
  },
  {
   "cell_type": "code",
   "execution_count": 48,
   "id": "false-cambodia",
   "metadata": {},
   "outputs": [],
   "source": [
    "def get_waveform_and_label(file_path):\n",
    "  label = get_label(file_path)\n",
    "  audio_binary = tf.io.read_file(file_path)\n",
    "  waveform = decode_audio(audio_binary)\n",
    "  return waveform, label"
   ]
  },
  {
   "cell_type": "code",
   "execution_count": 49,
   "id": "injured-december",
   "metadata": {},
   "outputs": [],
   "source": [
    "def get_spectrogram(waveform):\n",
    "  # Concatenate audio with padding so that all audio clips will be of the \n",
    "  # same length (16000 samples)\n",
    "  zero_padding = tf.zeros([wave_length_samps] - tf.shape(waveform), dtype=tf.int16)\n",
    "  waveform = tf.cast(0.5*waveform*(i16max-i16min), tf.int16)  # scale float [-1,+1]=>INT16\n",
    "  equal_length = tf.concat([waveform, zero_padding], 0)\n",
    "  ## Make sure these labels correspond to those used in micro_features_micro_features_generator.cpp\n",
    "  spectrogram = frontend_op.audio_microfrontend(equal_length, sample_rate=fsamp, num_channels=num_filters,\n",
    "                                    window_size=window_size_ms, window_step=window_step_ms)\n",
    "  return spectrogram\n"
   ]
  },
  {
   "cell_type": "markdown",
   "id": "competent-newark",
   "metadata": {},
   "source": [
    "Function to convert each waveform in a set into a spectrogram, then convert those\n",
    "back into a dataset using `from_tensor_slices`.  (We should be able to use \n",
    "`wav_ds.map(get_spectrogram_and_label_id)`, but there is a problem with that process).\n",
    "   "
   ]
  },
  {
   "cell_type": "code",
   "execution_count": 50,
   "id": "normal-productivity",
   "metadata": {},
   "outputs": [],
   "source": [
    "def create_silence_dataset(num_waves, samples_per_wave, rms_noise_range=[0.01,0.2], silent_label=silence_str):\n",
    "    # create num_waves waveforms of white gaussian noise, with rms level drawn from rms_noise_range\n",
    "    # to act as the \"silence\" dataset\n",
    "    rng = np.random.default_rng()\n",
    "    rms_noise_levels = rng.uniform(low=rms_noise_range[0], high=rms_noise_range[1], size=num_waves)\n",
    "    rand_waves = np.zeros((num_waves, samples_per_wave), dtype=np.float32) # pre-allocate memory\n",
    "    for i in range(num_waves):\n",
    "        rand_waves[i,:] = rms_noise_levels[i]*rng.standard_normal(samples_per_wave)\n",
    "    labels = [silent_label]*num_waves\n",
    "    return tf.data.Dataset.from_tensor_slices((rand_waves, labels))  "
   ]
  },
  {
   "cell_type": "code",
   "execution_count": 51,
   "id": "awful-national",
   "metadata": {},
   "outputs": [],
   "source": [
    "def wavds2specds(waveform_ds, verbose=True):\n",
    "  wav, label = next(waveform_ds.as_numpy_iterator())\n",
    "  one_spec = get_spectrogram(wav)\n",
    "  one_spec = tf.expand_dims(one_spec, axis=0)  # add a 'batch' dimension at the front\n",
    "  one_spec = tf.expand_dims(one_spec, axis=-1) # add a singleton 'channel' dimension at the back    \n",
    "\n",
    "  num_waves = 0 # count the waveforms so we can allocate the memory\n",
    "  for wav, label in waveform_ds:\n",
    "    num_waves += 1\n",
    "  print(f\"About to create spectrograms from {num_waves} waves\")\n",
    "  spec_shape = (num_waves,) + one_spec.shape[1:] \n",
    "  spec_grams = np.nan * np.zeros(spec_shape)  # allocate memory\n",
    "  labels = np.nan * np.zeros(num_waves)\n",
    "  idx = 0\n",
    "  for wav, label in waveform_ds:    \n",
    "    if verbose and idx % 250 == 0:\n",
    "      print(f\"\\r {idx} wavs processed\", end='')\n",
    "    spectrogram = get_spectrogram(wav)\n",
    "    # TF conv layer expect inputs structured as 4D (batch_size, height, width, channels)\n",
    "    # the microfrontend returns 2D tensors (freq, time), so we need to \n",
    "    spectrogram = tf.expand_dims(spectrogram, axis=0)  # add a 'batch' dimension at the front\n",
    "    spectrogram = tf.expand_dims(spectrogram, axis=-1) # add a singleton 'channel' dimension at the back\n",
    "    spec_grams[idx, ...] = spectrogram\n",
    "    new_label = label.numpy().decode('utf8')\n",
    "    new_label_id = np.argmax(new_label == np.array(label_list))    \n",
    "    labels[idx] = new_label_id # for numeric labels\n",
    "    # labels.append(new_label) # for string labels\n",
    "    idx += 1\n",
    "  labels = np.array(labels, dtype=int)\n",
    "  output_ds = tf.data.Dataset.from_tensor_slices((spec_grams, labels))  \n",
    "  return output_ds"
   ]
  },
  {
   "cell_type": "code",
   "execution_count": 52,
   "id": "appropriate-circus",
   "metadata": {},
   "outputs": [
    {
     "name": "stdout",
     "output_type": "stream",
     "text": [
      "About to create spectrograms from 84957 waves\n",
      " 84750 wavs processed"
     ]
    }
   ],
   "source": [
    "AUTOTUNE = tf.data.experimental.AUTOTUNE\n",
    "num_train_files = len(train_files)\n",
    "files_ds = tf.data.Dataset.from_tensor_slices(train_files)\n",
    "waveform_ds = files_ds.map(get_waveform_and_label, num_parallel_calls=AUTOTUNE)\n",
    "train_ds = wavds2specds(waveform_ds)"
   ]
  },
  {
   "cell_type": "code",
   "execution_count": 53,
   "id": "objective-consideration",
   "metadata": {
    "scrolled": true
   },
   "outputs": [
    {
     "data": {
      "image/png": "[encoded data removed]",
      "text/plain": [
       "<Figure size 720x864 with 9 Axes>"
      ]
     },
     "metadata": {
      "needs_background": "light"
     },
     "output_type": "display_data"
    }
   ],
   "source": [
    "rows = 3\n",
    "cols = 3\n",
    "n = rows*cols\n",
    "fig, axes = plt.subplots(rows, cols, figsize=(10, 12))\n",
    "for i, (audio, label) in enumerate(waveform_ds.take(n)):\n",
    "  r = i // cols\n",
    "  c = i % cols\n",
    "  ax = axes[r][c]\n",
    "  ax.plot(audio.numpy())\n",
    "  ax.set_yticks(np.arange(-1.2, 1.2, 0.2))\n",
    "  label = label.numpy().decode('utf-8')\n",
    "  ax.set_title(label)\n",
    "\n",
    "plt.show()"
   ]
  },
  {
   "cell_type": "code",
   "execution_count": 54,
   "id": "positive-honolulu",
   "metadata": {},
   "outputs": [
    {
     "name": "stdout",
     "output_type": "stream",
     "text": [
      "Label: _unknown\n",
      "Waveform shape: (16000,)\n",
      "Spectrogram shape: (24, 32)\n",
      "Audio playback\n"
     ]
    },
    {
     "data": {
      "text/html": [
       "\n",
       "                <audio  controls=\"controls\" >\n",
       "                    <source src=\"data:audio/wav;base64,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\" type=\"audio/wav\" />\n",
       "                    Your browser does not support the audio element.\n",
       "                </audio>\n",
       "              "
      ],
      "text/plain": [
       "<IPython.lib.display.Audio object>"
      ]
     },
     "metadata": {},
     "output_type": "display_data"
    }
   ],
   "source": [
    "for waveform, label in waveform_ds.take(1):\n",
    "  label = label.numpy().decode('utf-8')\n",
    "  spectrogram = get_spectrogram(waveform)\n",
    "\n",
    "print('Label:', label)\n",
    "print('Waveform shape:', waveform.shape)\n",
    "print('Spectrogram shape:', spectrogram.shape)\n",
    "print('Audio playback')\n",
    "display.display(display.Audio(waveform, rate=16000))"
   ]
  },
  {
   "cell_type": "code",
   "execution_count": 55,
   "id": "previous-clear",
   "metadata": {},
   "outputs": [
    {
     "name": "stderr",
     "output_type": "stream",
     "text": [
      "C:\\Users\\kemp\\AppData\\Local\\Temp/ipykernel_20836/4136360025.py:8: MatplotlibDeprecationWarning: shading='flat' when X and Y have the same dimensions as C is deprecated since 3.3.  Either specify the corners of the quadrilaterals with X and Y, or pass shading='auto', 'nearest' or 'gouraud', or set rcParams['pcolor.shading'].  This will become an error two minor releases later.\n",
      "  ax.pcolormesh(X, Y, spectrogram.T)\n"
     ]
    },
    {
     "data": {
      "image/png": "[encoded data removed]",
      "text/plain": [
       "<Figure size 864x576 with 2 Axes>"
      ]
     },
     "metadata": {
      "needs_background": "light"
     },
     "output_type": "display_data"
    }
   ],
   "source": [
    "def plot_spectrogram(spectrogram, ax):\n",
    "  # transpose so that the time is\n",
    "  # represented in the x-axis (columns).\n",
    "  freq_bins = spectrogram.shape[1]\n",
    "  time_dur = spectrogram.shape[0]\n",
    "  X = np.arange(time_dur)\n",
    "  Y = range(freq_bins)\n",
    "  ax.pcolormesh(X, Y, spectrogram.T)\n",
    "\n",
    "fig, axes = plt.subplots(2, figsize=(12, 8))\n",
    "timescale = np.arange(waveform.shape[0])\n",
    "axes[0].plot(timescale, waveform.numpy())\n",
    "axes[0].set_title('Waveform')\n",
    "axes[0].set_xlim([0, 16000])\n",
    "plot_spectrogram(spectrogram.numpy(), axes[1])\n",
    "axes[1].set_title('Spectrogram')\n",
    "plt.show()"
   ]
  },
  {
   "cell_type": "code",
   "execution_count": 56,
   "id": "26fa4527-72ed-45fc-8c06-9333274fce77",
   "metadata": {},
   "outputs": [
    {
     "data": {
      "text/plain": [
       "(24, 32)"
      ]
     },
     "execution_count": 56,
     "metadata": {},
     "output_type": "execute_result"
    }
   ],
   "source": [
    "spectrogram.numpy().shape"
   ]
  },
  {
   "cell_type": "code",
   "execution_count": 57,
   "id": "undefined-filter",
   "metadata": {},
   "outputs": [
    {
     "name": "stderr",
     "output_type": "stream",
     "text": [
      "C:\\Users\\kemp\\AppData\\Local\\Temp/ipykernel_20836/4136360025.py:8: MatplotlibDeprecationWarning: shading='flat' when X and Y have the same dimensions as C is deprecated since 3.3.  Either specify the corners of the quadrilaterals with X and Y, or pass shading='auto', 'nearest' or 'gouraud', or set rcParams['pcolor.shading'].  This will become an error two minor releases later.\n",
      "  ax.pcolormesh(X, Y, spectrogram.T)\n",
      "C:\\Users\\kemp\\AppData\\Local\\Temp/ipykernel_20836/1859809011.py:10: DeprecationWarning: `np.int` is a deprecated alias for the builtin `int`. To silence this warning, use `int` by itself. Doing this will not modify any behavior and is safe. When replacing `np.int`, you may wish to use e.g. `np.int64` or `np.int32` to specify the precision. If you wish to review your current use, check the release note link for additional information.\n",
      "Deprecated in NumPy 1.20; for more details and guidance: https://numpy.org/devdocs/release/1.20.0-notes.html#deprecations\n",
      "  ax.set_title(label_list[np.int(label_id)])\n"
     ]
    },
    {
     "data": {
      "image/png": "[encoded data removed]",
      "text/plain": [
       "<Figure size 720x720 with 9 Axes>"
      ]
     },
     "metadata": {
      "needs_background": "light"
     },
     "output_type": "display_data"
    }
   ],
   "source": [
    "rows = 3\n",
    "cols = 3\n",
    "n = rows*cols\n",
    "fig, axes = plt.subplots(rows, cols, figsize=(10, 10))\n",
    "for i, (spectrogram, label_id) in enumerate(train_ds.take(n)):\n",
    "  r = i // cols\n",
    "  c = i % cols\n",
    "  ax = axes[r][c]\n",
    "  plot_spectrogram(np.squeeze(spectrogram.numpy()), ax)\n",
    "  ax.set_title(label_list[np.int(label_id)])\n",
    "  ax.axis('off')\n",
    "\n",
    "plt.show()"
   ]
  },
  {
   "cell_type": "code",
   "execution_count": null,
   "id": "a21fc7a4-2a9b-45d9-9a0a-6561afd7b828",
   "metadata": {},
   "outputs": [],
   "source": []
  },
  {
   "cell_type": "code",
   "execution_count": 58,
   "id": "certified-interval",
   "metadata": {},
   "outputs": [],
   "source": [
    "def copy_with_noise(ds_input, rms_level):\n",
    "  rng = tf.random.Generator.from_seed(1234)\n",
    "  wave_shape = tf.constant((wave_length_samps,))\n",
    "  def add_noise(waveform, label):\n",
    "    noise = rms_level*rng.normal(shape=wave_shape)\n",
    "    zero_padding = tf.zeros([wave_length_samps] - tf.shape(waveform), dtype=tf.float32)\n",
    "    waveform = tf.concat([waveform, zero_padding], 0)    \n",
    "    noisy_wave = waveform + noise\n",
    "    return noisy_wave, label\n",
    "\n",
    "  return ds_input.map(add_noise)"
   ]
  },
  {
   "cell_type": "code",
   "execution_count": 59,
   "id": "distributed-breakfast",
   "metadata": {},
   "outputs": [
    {
     "name": "stdout",
     "output_type": "stream",
     "text": [
      "element 10 has shape (12056,)\n",
      "10\n"
     ]
    }
   ],
   "source": [
    "# waveform_ds = augment_with_noise(waveform_ds)\n",
    "count = 0\n",
    "for w,l in waveform_ds:\n",
    "  if w.shape != (16000,):\n",
    "    print(f\"element {count} has shape {w.shape}\")\n",
    "    break\n",
    "  count += 1\n",
    "print(count)"
   ]
  },
  {
   "cell_type": "code",
   "execution_count": 60,
   "id": "catholic-berlin",
   "metadata": {},
   "outputs": [],
   "source": [
    "def pad_16000(waveform, label):\n",
    "    zero_padding = tf.zeros([wave_length_samps] - tf.shape(waveform), dtype=tf.float32)\n",
    "    waveform = tf.concat([waveform, zero_padding], 0)        \n",
    "    return waveform, label"
   ]
  },
  {
   "cell_type": "code",
   "execution_count": 61,
   "id": "sound-forty",
   "metadata": {},
   "outputs": [],
   "source": [
    "def count_labels(dataset):\n",
    "    counts = {}\n",
    "    for _, lbl in dataset:\n",
    "        if lbl.dtype == tf.string:\n",
    "            label = lbl.numpy().decode('utf-8')\n",
    "        else:\n",
    "            label = lbl.numpy()\n",
    "        if label in counts:\n",
    "            counts[label] += 1\n",
    "        else:\n",
    "            counts[label] = 1\n",
    "    return counts"
   ]
  },
  {
   "cell_type": "code",
   "execution_count": 62,
   "id": "nonprofit-admission",
   "metadata": {},
   "outputs": [],
   "source": [
    "# Collect what we did to generate the training dataset into a \n",
    "# function, so we can repeat with the validation and test sets.\n",
    "def preprocess_dataset(files, num_silent=None, noisy_reps_of_known=None):\n",
    "  # if noisy_reps_of_known is not None, it should be a list of rms noise levels\n",
    "  # For every target word in the data set, 1 copy will be created with each level \n",
    "  # of noise added to it.  So [0.1, 0.2] will add 2x noisy copies of the target words \n",
    "  if num_silent is None:\n",
    "    num_silent = int(1.5*len(files))+1\n",
    "  print(f\"Processing {len(files)} files\")\n",
    "  files_ds = tf.data.Dataset.from_tensor_slices(files)\n",
    "  waveform_ds = files_ds.map(get_waveform_and_label)\n",
    "  if noisy_reps_of_known is not None:\n",
    "    # create a few copies of only the target words to balance the distribution\n",
    "    # create a tmp dataset with only the target words\n",
    "    ds_only_cmds = waveform_ds.filter(lambda w,l: tf.reduce_any(l == commands))\n",
    "    for noise_level in noisy_reps_of_known:\n",
    "       waveform_ds = waveform_ds.concatenate(copy_with_noise(waveform_ds, rms_level=noise_level))\n",
    "       waveform_ds = waveform_ds.concatenate(copy_with_noise(ds_only_cmds, rms_level=(noise_level+0.015)))\n",
    "       waveform_ds = waveform_ds.concatenate(copy_with_noise(ds_only_cmds, rms_level=(noise_level+0.03)))\n",
    "       waveform_ds = waveform_ds.concatenate(copy_with_noise(ds_only_cmds, rms_level=(noise_level+0.045)))\n",
    "  if num_silent > 0:\n",
    "    silent_wave_ds = create_silence_dataset(num_silent, wave_length_samps, \n",
    "                                            rms_noise_range=[0.01,0.2], \n",
    "                                            silent_label=silence_str)\n",
    "    waveform_ds = waveform_ds.concatenate(silent_wave_ds)\n",
    "  print(f\"Added {num_silent} silent wavs and ?? noisy wavs\")\n",
    "  num_waves = 0\n",
    "  output_ds = wavds2specds(waveform_ds)\n",
    "  return output_ds"
   ]
  },
  {
   "cell_type": "code",
   "execution_count": 63,
   "id": "measured-police",
   "metadata": {},
   "outputs": [
    {
     "name": "stdout",
     "output_type": "stream",
     "text": [
      "We have 84957/9992/11018 training/validation/test files\n"
     ]
    }
   ],
   "source": [
    "print(f\"We have {len(train_files)}/{len(val_files)}/{len(test_files)} training/validation/test files\")"
   ]
  },
  {
   "cell_type": "code",
   "execution_count": 64,
   "id": "refined-immunology",
   "metadata": {},
   "outputs": [
    {
     "name": "stdout",
     "output_type": "stream",
     "text": [
      "['_silence', '_unknown', 'sheila', 'apricot']\n",
      "Processing 20 files\n",
      "Added 31 silent wavs and ?? noisy wavs\n",
      "About to create spectrograms from 51 waves\n",
      " 0 wavs processed{1: 20, 0: 31}\n",
      "Processing 20 files\n",
      "Added 31 silent wavs and ?? noisy wavs\n",
      "About to create spectrograms from 111 waves\n",
      " 0 wavs processed{1: 80, 0: 31}\n"
     ]
    }
   ],
   "source": [
    "# print(train_files[:20])\n",
    "print(label_list)\n",
    "train_files[:20]\n",
    "\n",
    "tmp_ds = preprocess_dataset(train_files[:20])\n",
    "print(count_labels(tmp_ds))\n",
    "\n",
    "with tf.device('/GPU:0'): # needed on M1 mac\n",
    "    tmp_ds = preprocess_dataset(train_files[:20], num_silent=None, noisy_reps_of_known=[0.05,0.1])\n",
    "    print(count_labels(tmp_ds))\n",
    "\n"
   ]
  },
  {
   "cell_type": "code",
   "execution_count": 65,
   "id": "48d0ab6d-451c-4e3d-9caa-9b1c8ad3c27d",
   "metadata": {},
   "outputs": [
    {
     "name": "stdout",
     "output_type": "stream",
     "text": [
      "Processing 84957 files\n",
      "Added 127436 silent wavs and ?? noisy wavs\n",
      "About to create spectrograms from 843212 waves\n",
      " 843000 wavs processedProcessing 9992 files\n",
      "Added 14989 silent wavs and ?? noisy wavs\n",
      "About to create spectrograms from 99440 waves\n",
      " 99250 wavs processedProcessing 11018 files\n",
      "Added 16528 silent wavs and ?? noisy wavs\n",
      "About to create spectrograms from 109397 waves\n",
      " 109250 wavs processed"
     ]
    }
   ],
   "source": [
    "# train_ds is already done\n",
    "with tf.device('/CPU:0'): # needed on M1 mac\n",
    "    train_ds = preprocess_dataset(train_files, noisy_reps_of_known=[0.05,0.1,0.15])\n",
    "val_ds = preprocess_dataset(val_files, noisy_reps_of_known=[0.05,0.1,0.15])\n",
    "test_ds = preprocess_dataset(test_files, noisy_reps_of_known=[0.05,0.1,0.15])"
   ]
  },
  {
   "cell_type": "code",
   "execution_count": 66,
   "id": "conscious-humor",
   "metadata": {},
   "outputs": [],
   "source": [
    "# train_ds is already done\n",
    "#with tf.device('/CPU:0'): # needed on M1 mac\n",
    "#    train_ds = preprocess_dataset(train_files, noisy_reps_of_known=[0.05,0.1,0.15,0.075])\n",
    "#val_ds = preprocess_dataset(val_files, noisy_reps_of_known=[0.05,0.1,0.15,0.075])\n",
    "#test_ds = preprocess_dataset(test_files, noisy_reps_of_known=[0.05,0.1,0.15,0.075])\n"
   ]
  },
  {
   "cell_type": "code",
   "execution_count": 67,
   "id": "instant-sucking",
   "metadata": {},
   "outputs": [
    {
     "name": "stdout",
     "output_type": "stream",
     "text": [
      "training data set\n",
      "{1: 665896, 2: 46574, 3: 3306, 0: 127436}\n",
      "val_ds data set\n",
      "{1: 78216, 2: 5916, 3: 319, 0: 14989}\n",
      "test_ds data set\n",
      "{1: 86344, 2: 6148, 3: 377, 0: 16528}\n"
     ]
    }
   ],
   "source": [
    "print(\"training data set\")\n",
    "print(count_labels(train_ds))\n",
    "print(\"val_ds data set\")\n",
    "print(count_labels(val_ds))\n",
    "print(\"test_ds data set\")\n",
    "print(count_labels(test_ds))"
   ]
  },
  {
   "cell_type": "code",
   "execution_count": 68,
   "id": "controlling-arnold",
   "metadata": {},
   "outputs": [],
   "source": [
    "train_ds = train_ds.shuffle(int(len(train_files)*1.2))\n",
    "val_ds = val_ds.shuffle(int(len(val_files)*1.2))\n",
    "test_ds = test_ds.shuffle(int(len(test_files)*1.2))"
   ]
  },
  {
   "cell_type": "code",
   "execution_count": 69,
   "id": "scheduled-emergency",
   "metadata": {},
   "outputs": [],
   "source": [
    "batch_size = 64\n",
    "train_ds = train_ds.batch(batch_size)\n",
    "val_ds = val_ds.batch(batch_size)"
   ]
  },
  {
   "cell_type": "code",
   "execution_count": 70,
   "id": "positive-publication",
   "metadata": {},
   "outputs": [],
   "source": [
    "train_ds = train_ds.cache().prefetch(AUTOTUNE)\n",
    "val_ds = val_ds.cache().prefetch(AUTOTUNE)"
   ]
  },
  {
   "cell_type": "code",
   "execution_count": 71,
   "id": "exposed-appearance",
   "metadata": {},
   "outputs": [
    {
     "name": "stdout",
     "output_type": "stream",
     "text": [
      "Spectrogram shape (24, 32, 1)\n",
      "ranges from 0.0 to 711.0\n"
     ]
    }
   ],
   "source": [
    "for spectrogram, _ in train_ds.take(1):\n",
    "  spec1 = spectrogram\n",
    "# take(1) takes 1 *batch*, so we have to select the first \n",
    "# spectrogram from it, hence the [0]\n",
    "print(f\"Spectrogram shape {spec1[0].shape}\")\n",
    "print(f\"ranges from {np.min(spec1)} to {np.max(spec1)}\")   # min/max across the whole batch"
   ]
  },
  {
   "cell_type": "code",
   "execution_count": 72,
   "id": "artistic-christian",
   "metadata": {},
   "outputs": [
    {
     "name": "stdout",
     "output_type": "stream",
     "text": [
      "Input shape: (24, 32, 1)\n"
     ]
    }
   ],
   "source": [
    "for spectrogram, _ in train_ds.take(1):\n",
    "  # take(1) takes 1 *batch*, so we have to select the first \n",
    "  # spectrogram from it, hence the [0]\n",
    "  input_shape = spectrogram[0].shape  \n",
    "print('Input shape:', input_shape)\n",
    "num_labels = len(label_list)\n"
   ]
  },
  {
   "cell_type": "code",
   "execution_count": 321,
   "id": "stuck-david",
   "metadata": {},
   "outputs": [
    {
     "name": "stdout",
     "output_type": "stream",
     "text": [
      "Input shape: (24, 32, 1)\n",
      "Model: \"simple_cnn\"\n",
      "_________________________________________________________________\n",
      " Layer (type)                Output Shape              Param #   \n",
      "=================================================================\n",
      " conv2d_87 (Conv2D)          (None, 20, 32, 20)        120       \n",
      "                                                                 \n",
      " max_pooling2d_60 (MaxPoolin  (None, 10, 32, 20)       0         \n",
      " g2D)                                                            \n",
      "                                                                 \n",
      " dropout_139 (Dropout)       (None, 10, 32, 20)        0         \n",
      "                                                                 \n",
      " conv2d_88 (Conv2D)          (None, 8, 30, 40)         7240      \n",
      "                                                                 \n",
      " max_pooling2d_61 (MaxPoolin  (None, 4, 15, 40)        0         \n",
      " g2D)                                                            \n",
      "                                                                 \n",
      " dropout_140 (Dropout)       (None, 4, 15, 40)         0         \n",
      "                                                                 \n",
      " conv2d_89 (Conv2D)          (None, 2, 13, 80)         28880     \n",
      "                                                                 \n",
      " max_pooling2d_62 (MaxPoolin  (None, 1, 6, 80)         0         \n",
      " g2D)                                                            \n",
      "                                                                 \n",
      " flatten_38 (Flatten)        (None, 480)               0         \n",
      "                                                                 \n",
      " dense_150 (Dense)           (None, 64)                30784     \n",
      "                                                                 \n",
      " dense_151 (Dense)           (None, 32)                2080      \n",
      "                                                                 \n",
      " dense_152 (Dense)           (None, 4)                 132       \n",
      "                                                                 \n",
      "=================================================================\n",
      "Total params: 69,236\n",
      "Trainable params: 69,236\n",
      "Non-trainable params: 0\n",
      "_________________________________________________________________\n"
     ]
    }
   ],
   "source": [
    "from tensorflow.keras import regularizers\n",
    "    \n",
    "print('Input shape:', input_shape)\n",
    "model = models.Sequential([\n",
    "    layers.Input(shape=input_shape),\n",
    "    layers.Conv2D(20,(5,1), activation='relu'),\n",
    "    layers.MaxPooling2D(pool_size=(2,1)),\n",
    "    layers.Dropout(0.3),\n",
    "    layers.Conv2D(40, (3,3), activation='relu'),\n",
    "    layers.MaxPooling2D(pool_size=(2,2)),\n",
    "    layers.Dropout(0.3),\n",
    "    layers.Conv2D(80, (3,3), activation='relu'),\n",
    "    layers.MaxPooling2D(pool_size=(2,2)),\n",
    "    layers.Flatten(),\n",
    "    layers.Dense(64, activation='relu',  kernel_regularizer=regularizers.l2(0.002)),\n",
    "    layers.Dense(32, activation='relu',  kernel_regularizer=regularizers.l2(0.002)),\n",
    "    layers.Dense(num_labels),\n",
    "], name=\"simple_cnn\")\n",
    "\n",
    "model5 = models.Sequential([\n",
    "    layers.Input(shape=input_shape),\n",
    "    layers.Conv2D(20,(5,1), activation='relu'),\n",
    "    layers.MaxPooling2D(pool_size=(2,1)),\n",
    "    layers.Dropout(0.3),\n",
    "    layers.Conv2D(40, (3,3), activation='relu'),\n",
    "    layers.MaxPooling2D(pool_size=(2,2)),\n",
    "    layers.Dropout(0.3),\n",
    "    layers.Conv2D(80, (3,3), activation='relu'),\n",
    "    layers.MaxPooling2D(pool_size=(2,2)),\n",
    "    layers.Flatten(),\n",
    "    layers.Dense(64, activation='relu'),\n",
    "    layers.Dense(32, activation='relu'),\n",
    "    layers.Dense(num_labels),\n",
    "], name=\"simple_cnn\")\n",
    "\n",
    "model3 = models.Sequential([\n",
    "    layers.Input(shape=input_shape),\n",
    "    layers.Conv2D(20, 3, activation='relu'),\n",
    "    layers.MaxPooling2D(name='pool2'),\n",
    "    layers.DepthwiseConv2D(kernel_size=(3,3), padding='same'),\n",
    "    layers.Conv2D(32, 1, activation='relu'),\n",
    "    layers.MaxPooling2D(pool_size=(4,4)),\n",
    "    layers.Dropout(0.2),\n",
    "    layers.Flatten(),\n",
    "    layers.Dense(512, activation='relu',\n",
    "                 kernel_regularizer=regularizers.l2(0.0005)),\n",
    "    layers.Dropout(0.2),\n",
    "    layers.Dense(512, activation='relu',\n",
    "                 kernel_regularizer=regularizers.l2(0.0005)),\n",
    "    layers.Dropout(0.2),\n",
    "    layers.Dense(512, activation='relu',\n",
    "                 kernel_regularizer=regularizers.l2(0.0005)),\n",
    "    layers.Dropout(0.2),\n",
    "    layers.Dense(512, activation='relu',\n",
    "                 kernel_regularizer=regularizers.l2(0.0005)),\n",
    "    layers.Dropout(0.2),\n",
    "    layers.Dense(num_labels),\n",
    "], name=\"simple_cnn\")\n",
    "\n",
    "model2 = models.Sequential([\n",
    "        layers.Input(shape=input_shape),\n",
    "    layers.Conv2D(256,(1,1),strides=(1, 1), activation='relu'),\n",
    "    layers.MaxPooling2D(name='pool2'),\n",
    "    layers.DepthwiseConv2D(kernel_size=(3,3), padding='same'),\n",
    "    layers.Conv2D(256, 1, strides=(1, 1), activation='relu'),\n",
    "    layers.MaxPooling2D(pool_size=(2,2)),\n",
    "    layers.Dropout(0.2),\n",
    "    layers.Flatten(),\n",
    "    layers.Dense(512, activation='relu',\n",
    "                 kernel_regularizer=regularizers.l2(0.001)),\n",
    "    layers.Dropout(0.2),\n",
    "    layers.Dense(512, activation='relu',\n",
    "                 kernel_regularizer=regularizers.l2(0.001)),\n",
    "    layers.Dropout(0.2),\n",
    "    layers.Dense(512, activation='relu',\n",
    "                 kernel_regularizer=regularizers.l2(0.001)),\n",
    "    layers.Dropout(0.2),\n",
    "    layers.Dense(512, activation='relu',\n",
    "                 kernel_regularizer=regularizers.l2(0.001)),\n",
    "    layers.Dropout(0.2),\n",
    "    layers.Dense(num_labels),\n",
    "], name=\"simple_cnn\")\n",
    "\n",
    "model2 = models.Sequential([\n",
    "    layers.Input(shape=input_shape),\n",
    "    layers.Conv2D(20, 3, activation='relu'),\n",
    "    layers.MaxPooling2D(name='pool2'),\n",
    "    layers.DepthwiseConv2D(kernel_size=(3,3), padding='same'),\n",
    "    layers.Conv2D(32, 1, activation='relu'),\n",
    "    layers.MaxPooling2D(pool_size=(4,4)),\n",
    "    layers.Dropout(0.2),\n",
    "    layers.Flatten(),\n",
    "    layers.Dense(128, activation='relu'),\n",
    "    layers.Dropout(0.2),\n",
    "    layers.Dense(128, activation='relu'),\n",
    "    layers.Dropout(0.2),\n",
    "    layers.Dense(num_labels),\n",
    "], name=\"simple_cnn\")\n",
    "\n",
    "\n",
    "model.summary()"
   ]
  },
  {
   "cell_type": "code",
   "execution_count": 322,
   "id": "rough-train",
   "metadata": {},
   "outputs": [
    {
     "name": "stdout",
     "output_type": "stream",
     "text": [
      "[95760 23940 85120 16384 16384   512]\n",
      "238100\n"
     ]
    }
   ],
   "source": [
    "# number of MACs in each layer is (# outputs in layer) * (number of inputs that contribute to one output)\n",
    "macs = np.array([(14*38*20)*(3*3), (7*19*20)*(3*3), (7*19*32)*20, 128*128, 128*128, 4*128])\n",
    "print(macs)\n",
    "print(np.sum(macs))"
   ]
  },
  {
   "cell_type": "code",
   "execution_count": 323,
   "id": "emerging-holocaust",
   "metadata": {},
   "outputs": [],
   "source": [
    "model.compile(\n",
    "    optimizer=tf.keras.optimizers.Adam(),\n",
    "    loss=tf.keras.losses.SparseCategoricalCrossentropy(from_logits=True),\n",
    "    metrics=['accuracy'],\n",
    ")"
   ]
  },
  {
   "cell_type": "code",
   "execution_count": 324,
   "id": "alternative-arrest",
   "metadata": {},
   "outputs": [
    {
     "name": "stdout",
     "output_type": "stream",
     "text": [
      "{1: 1.0, 2: 2.660091056679547, 3: 5.305394502791758, 0: 1.653519224400913}\n"
     ]
    }
   ],
   "source": [
    "import math\n",
    "\n",
    "\n",
    "def get_class_weight(labels_dict):\n",
    "    \"\"\"Calculate the weights of different categories\n",
    "\n",
    "    >>> get_class_weight({0: 633, 1: 898, 2: 641, 3: 699, 4: 799})\n",
    "    {0: 1.0, 1: 1.0, 2: 1.0, 3: 1.0, 4: 1.0}\n",
    "    >>> get_class_weight({0: 5, 1: 78, 2: 2814, 3: 7914})\n",
    "    {0: 7.366950709511269, 1: 4.619679795255778, 2: 1.034026384271035, 3: 1.0}\n",
    "    \"\"\"\n",
    "    total = sum(labels_dict.values())\n",
    "    max_num = max(labels_dict.values())\n",
    "    mu = 1.0 / (total / max_num)\n",
    "    class_weight = dict()\n",
    "    for key, value in labels_dict.items():\n",
    "        score = math.log(mu * total / float(value))\n",
    "        class_weight[key] = score if score > 1.0 else 1.0\n",
    "    return class_weight\n",
    "\n",
    "\n",
    "labels_dict = {1: 665896, 2: 46574, 3: 3306, 0: 127436}\n",
    "print(get_class_weight(labels_dict))\n",
    "#  Google: feature extraction with Keras\n",
    "# feature_model = tf.keras.model(input=model.input, output= model.layers[4].output)"
   ]
  },
  {
   "cell_type": "code",
   "execution_count": 325,
   "id": "8a46d09b-b8ad-446b-a24d-52425ccbb2df",
   "metadata": {},
   "outputs": [],
   "source": [
    "class_weights = get_class_weight(labels_dict)"
   ]
  },
  {
   "cell_type": "code",
   "execution_count": null,
   "id": "recreational-publication",
   "metadata": {
    "tags": []
   },
   "outputs": [
    {
     "name": "stdout",
     "output_type": "stream",
     "text": [
      "Epoch 1/10\n",
      "13176/13176 [==============================] - 79s 6ms/step - loss: 0.3283 - accuracy: 0.9371 - val_loss: 0.4553 - val_accuracy: 0.8409\n",
      "Epoch 2/10\n",
      "13176/13176 [==============================] - 74s 6ms/step - loss: 0.3243 - accuracy: 0.9379 - val_loss: 0.5698 - val_accuracy: 0.8035\n",
      "Epoch 3/10\n",
      "13176/13176 [==============================] - 75s 6ms/step - loss: 0.3224 - accuracy: 0.9385 - val_loss: 0.4630 - val_accuracy: 0.8452\n",
      "Epoch 4/10\n",
      "13176/13176 [==============================] - 74s 6ms/step - loss: 0.3185 - accuracy: 0.9389 - val_loss: 0.4218 - val_accuracy: 0.8461\n",
      "Epoch 5/10\n",
      "13176/13176 [==============================] - 74s 6ms/step - loss: 0.3199 - accuracy: 0.9388 - val_loss: 0.4767 - val_accuracy: 0.8336\n",
      "Epoch 6/10\n",
      "13176/13176 [==============================] - 74s 6ms/step - loss: 0.3179 - accuracy: 0.9386 - val_loss: 0.4691 - val_accuracy: 0.8313\n",
      "Epoch 7/10\n",
      "13176/13176 [==============================] - 74s 6ms/step - loss: 0.3207 - accuracy: 0.9379 - val_loss: 0.4518 - val_accuracy: 0.8368\n",
      "Epoch 8/10\n",
      "13176/13176 [==============================] - 74s 6ms/step - loss: 0.3213 - accuracy: 0.9387 - val_loss: 0.4536 - val_accuracy: 0.8362\n",
      "Epoch 9/10\n",
      "13176/13176 [==============================] - 76s 6ms/step - loss: 0.3193 - accuracy: 0.9388 - val_loss: 0.6132 - val_accuracy: 0.8218\n",
      "Epoch 10/10\n",
      "10476/13176 [======================>.......] - ETA: 15s - loss: 0.2685 - accuracy: 0.9473"
     ]
    }
   ],
   "source": [
    "history = model.fit(\n",
    "    train_ds, \n",
    "    validation_data=val_ds,\n",
    "    class_weight=class_weights,\n",
    "    epochs=10\n",
    ") \n",
    "    # callbacks=tf.keras.callbacks.EarlyStopping(verbose=1, patience=2))"
   ]
  },
  {
   "cell_type": "code",
   "execution_count": null,
   "id": "157289b7-b7c9-469a-909a-4d346e583a1a",
   "metadata": {},
   "outputs": [],
   "source": [
    "with open(model_file_name.split('.')[0] + '.txt', 'w') as fpo:\n",
    "    fpo.write(f\"i16min            = {i16min           }\\n\")\n",
    "    fpo.write(f\"i16max            = {i16max           }\\n\")\n",
    "    fpo.write(f\"fsamp             = {fsamp            }\\n\")\n",
    "    fpo.write(f\"wave_length_ms    = {wave_length_ms   }\\n\")\n",
    "    fpo.write(f\"wave_length_samps = {wave_length_samps}\\n\")\n",
    "    fpo.write(f\"window_size_ms    = {window_size_ms   }\\n\")\n",
    "    fpo.write(f\"window_step_ms    = {window_step_ms   }\\n\")\n",
    "    fpo.write(f\"num_filters       = {num_filters      }\\n\")\n",
    "    fpo.write(f\"use_microfrontend = {use_microfrontend}\\n\")\n",
    "    fpo.write(f\"label_list        = {label_list}\\n\")\n",
    "    fpo.write(f\"spectrogram_shape = {spectrogram.numpy().shape}\\n\")\n"
   ]
  },
  {
   "cell_type": "code",
   "execution_count": null,
   "id": "amateur-slovenia",
   "metadata": {},
   "outputs": [],
   "source": [
    "metrics = history.history\n",
    "plt.subplot(2,1,1)\n",
    "plt.semilogy(history.epoch, metrics['loss'], metrics['val_loss'])\n",
    "plt.legend(['training', 'validation'])\n",
    "plt.ylabel('Loss')\n",
    "plt.xlabel('Epoch')\n",
    "plt.subplot(2,1,2)\n",
    "plt.plot(history.epoch, metrics['accuracy'], metrics['val_accuracy'])\n",
    "plt.legend(['training', 'validation'])\n",
    "plt.ylabel('Accuracy')\n",
    "plt.xlabel('Epoch')\n",
    "plt.show()"
   ]
  },
  {
   "cell_type": "code",
   "execution_count": null,
   "id": "hungarian-arabic",
   "metadata": {},
   "outputs": [],
   "source": [
    "test_audio = []\n",
    "test_labels = []\n",
    "\n",
    "for audio, label in test_ds:\n",
    "  test_audio.append(audio.numpy())\n",
    "  test_labels.append(label.numpy())\n",
    "\n",
    "test_audio = np.array(test_audio)\n",
    "test_labels = np.array(test_labels)"
   ]
  },
  {
   "cell_type": "code",
   "execution_count": null,
   "id": "dangerous-coverage",
   "metadata": {
    "scrolled": true
   },
   "outputs": [],
   "source": [
    "y_pred = np.argmax(model.predict(test_audio), axis=1)\n",
    "y_true = test_labels\n",
    "\n",
    "test_acc = sum(y_pred == y_true) / len(y_true)\n",
    "print(f'Test set accuracy: {test_acc:.0%}')"
   ]
  },
  {
   "cell_type": "code",
   "execution_count": null,
   "id": "governmental-cathedral",
   "metadata": {},
   "outputs": [],
   "source": [
    "confusion_mtx = tf.math.confusion_matrix(y_true, y_pred) \n",
    "plt.figure(figsize=(6, 6))\n",
    "sns.heatmap(confusion_mtx, xticklabels=label_list, yticklabels=label_list, \n",
    "            annot=True, fmt='g')\n",
    "plt.gca().invert_yaxis() # flip so origin is at bottom left\n",
    "plt.xlabel('Prediction')\n",
    "plt.ylabel('Label')\n",
    "plt.show()"
   ]
  },
  {
   "cell_type": "code",
   "execution_count": null,
   "id": "serious-victory",
   "metadata": {
    "scrolled": true
   },
   "outputs": [],
   "source": [
    "dset = train_ds.unbatch()\n",
    "print(\"On training set:\")\n",
    "\n",
    "ds_audio = []\n",
    "ds_labels = []\n",
    "\n",
    "for audio, label in dset:\n",
    "  ds_audio.append(audio.numpy())\n",
    "  ds_labels.append(label.numpy())\n",
    "\n",
    "ds_labels = np.array(ds_labels)\n",
    "ds_audio = np.array(ds_audio)\n",
    "\n",
    "model_out = model.predict(ds_audio)\n",
    "y_pred = np.argmax(model_out, axis=1)\n",
    "y_true = ds_labels\n",
    "\n",
    "ds_acc = sum(y_pred == y_true) / len(y_true)\n",
    "print(f'Data set accuracy: {ds_acc:.0%}')\n",
    "\n",
    "confusion_mtx = tf.math.confusion_matrix(y_true, y_pred) \n",
    "plt.figure(figsize=(5,4))\n",
    "sns.heatmap(confusion_mtx, xticklabels=label_list, yticklabels=label_list, \n",
    "            annot=True, fmt='g')\n",
    "plt.xlabel('Prediction')\n",
    "plt.ylabel('Label')\n",
    "plt.show()"
   ]
  },
  {
   "cell_type": "code",
   "execution_count": null,
   "id": "unusual-stopping",
   "metadata": {
    "scrolled": true
   },
   "outputs": [],
   "source": [
    "sample_files = [data_dir/'left/07ad9b59_nohash_0.wav', \n",
    "                data_dir/'no/01bb6a2a_nohash_0.wav',  \n",
    "                data_dir/'right/0362539c_nohash_1.wav',\n",
    "                data_dir/'right/b5d1e505_nohash_0.wav']\n",
    "fstr_list = [str(f) for f in sample_files]\n",
    "sample_ds = preprocess_dataset(fstr_list, num_silent=1)\n",
    "count = 1\n",
    "for spectrogram, label in sample_ds.batch(1):\n",
    "  prediction = model(spectrogram)\n",
    "  plt.subplot(len(sample_files)+1, 1, count)\n",
    "  plt.bar(label_list, tf.nn.softmax(prediction[0]))\n",
    "  plt.title(f'Predictions for \"{label_list[label[0]]}\"')\n",
    "  plt.show()\n",
    "  count += 1"
   ]
  },
  {
   "cell_type": "code",
   "execution_count": 337,
   "id": "equipped-characteristic",
   "metadata": {},
   "outputs": [
    {
     "name": "stdout",
     "output_type": "stream",
     "text": [
      "Saving model to kws_ufe_31mar2022_0955.h5\n"
     ]
    }
   ],
   "source": [
    "date_str = dt.now().strftime(\"%d%b%Y_%H%M\").lower()\n",
    "model_file_name = f\"kws_ufe_{date_str}.h5\" \n",
    "print(f\"Saving model to {model_file_name}\") \n",
    "model.save(model_file_name, overwrite=False)"
   ]
  },
  {
   "cell_type": "markdown",
   "id": "current-preserve",
   "metadata": {},
   "source": [
    "## Quantize and Convert to TFLite"
   ]
  },
  {
   "cell_type": "code",
   "execution_count": null,
   "id": "enclosed-government",
   "metadata": {},
   "outputs": [],
   "source": [
    "converter = tf.lite.TFLiteConverter.from_keras_model(model)\n",
    "converter.optimizations = [tf.lite.Optimize.DEFAULT]"
   ]
  },
  {
   "cell_type": "code",
   "execution_count": null,
   "id": "loved-synthetic",
   "metadata": {},
   "outputs": [],
   "source": [
    "num_calibration_steps = 10\n",
    "ds_iter = val_ds.unbatch().batch(1).as_numpy_iterator()\n",
    "def representative_dataset_gen():\n",
    "  for _ in range(num_calibration_steps):\n",
    "    next_input = next(ds_iter)[0]\n",
    "    next_input = next_input.astype(np.float32)  # (DIFF_FROM_LECTURE)\n",
    "    yield [next_input]"
   ]
  },
  {
   "cell_type": "code",
   "execution_count": null,
   "id": "supported-poison",
   "metadata": {},
   "outputs": [],
   "source": [
    "converter.optimizations = [tf.lite.Optimize.DEFAULT]\n",
    "converter.representative_dataset = representative_dataset_gen\n",
    "converter.target_spec.supported_ops = [tf.lite.OpsSet.TFLITE_BUILTINS_INT8]\n",
    "converter.inference_input_type = tf.int8  # or tf.uint8; should match dat_q in eval_quantized_model.py\n",
    "converter.inference_output_type = tf.int8  # or tf.uint8"
   ]
  },
  {
   "cell_type": "code",
   "execution_count": null,
   "id": "least-marketplace",
   "metadata": {},
   "outputs": [],
   "source": [
    "tflite_quant_model = converter.convert()"
   ]
  },
  {
   "cell_type": "code",
   "execution_count": null,
   "id": "simplified-faculty",
   "metadata": {},
   "outputs": [],
   "source": [
    "fname = 'kws_model.tflite'\n",
    "with open(fname, \"wb\") as fpo:\n",
    "  num_bytes_written = fpo.write(tflite_quant_model)\n",
    "print(f\"Wrote {num_bytes_written} / {len(tflite_quant_model)} bytes to tflite file\")"
   ]
  },
  {
   "cell_type": "code",
   "execution_count": 220,
   "id": "thorough-senegal",
   "metadata": {},
   "outputs": [
    {
     "name": "stderr",
     "output_type": "stream",
     "text": [
      "'xxd' is not recognized as an internal or external command,\n",
      "operable program or batch file.\n"
     ]
    }
   ],
   "source": [
    "!xxd -i kws_model.tflite >! kws_model.cc"
   ]
  }
 ],
 "metadata": {
  "kernelspec": {
   "display_name": "Python 3 (ipykernel)",
   "language": "python",
   "name": "python3"
  },
  "language_info": {
   "codemirror_mode": {
    "name": "ipython",
    "version": 3
   },
   "file_extension": ".py",
   "mimetype": "text/x-python",
   "name": "python",
   "nbconvert_exporter": "python",
   "pygments_lexer": "ipython3",
   "version": "3.9.7"
  }
 },
 "nbformat": 4,
 "nbformat_minor": 5
}
